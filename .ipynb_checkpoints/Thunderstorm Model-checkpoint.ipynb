{
 "cells": [
  {
   "cell_type": "code",
   "execution_count": 11,
   "metadata": {},
   "outputs": [
    {
     "name": "stdout",
     "output_type": "stream",
     "text": [
      "Populating the interactive namespace from numpy and matplotlib\n"
     ]
    }
   ],
   "source": [
    "%pylab inline"
   ]
  },
  {
   "cell_type": "code",
   "execution_count": 12,
   "metadata": {},
   "outputs": [
    {
     "data": {
      "text/plain": [
       "array([ 0. ,  0.5,  1. ,  1.5,  2. ,  2.5,  3. ,  3.5,  4. ,  4.5,  5. ,\n",
       "        5.5,  6. ,  6.5,  7. ,  7.5,  8. ,  8.5,  9. ,  9.5, 10. ])"
      ]
     },
     "execution_count": 12,
     "metadata": {},
     "output_type": "execute_result"
    }
   ],
   "source": [
    "#Altitude in km\n",
    "z = linspace(0,10,21)\n",
    "z"
   ]
  },
  {
   "cell_type": "markdown",
   "metadata": {},
   "source": [
    "Change in temperature is the environmental lapse rate, which can be derived from IGL, but in thunderstorms, the air isn't dry, so it doesn't apply. I looked up the average lapse rate to be 6.5 degrees C / km, which isn't perfect, but better than assuming temperature is constant. Assuming it's a warm day, we'll start at ground level at 25 degrees C."
   ]
  },
  {
   "cell_type": "code",
   "execution_count": 13,
   "metadata": {},
   "outputs": [
    {
     "data": {
      "text/plain": [
       "array([ 25.  ,  21.75,  18.5 ,  15.25,  12.  ,   8.75,   5.5 ,   2.25,\n",
       "        -1.  ,  -4.25,  -7.5 , -10.75, -14.  , -17.25, -20.5 , -23.75,\n",
       "       -27.  , -30.25, -33.5 , -36.75, -40.  ])"
      ]
     },
     "execution_count": 13,
     "metadata": {},
     "output_type": "execute_result"
    }
   ],
   "source": [
    "#Temperature\n",
    "T = 25 - z*6.5\n",
    "T\n"
   ]
  },
  {
   "cell_type": "code",
   "execution_count": 14,
   "metadata": {},
   "outputs": [
    {
     "data": {
      "text/plain": [
       "[<matplotlib.lines.Line2D at 0x1d0c20ec518>]"
      ]
     },
     "execution_count": 14,
     "metadata": {},
     "output_type": "execute_result"
    },
    {
     "data": {
      "image/png": "[encoded data removed]",
      "text/plain": [
       "<Figure size 432x288 with 1 Axes>"
      ]
     },
     "metadata": {
      "needs_background": "light"
     },
     "output_type": "display_data"
    }
   ],
   "source": [
    "plot(z,T)"
   ]
  },
  {
   "cell_type": "markdown",
   "metadata": {},
   "source": [
    "## Notes\n",
    "### 6/18/20\n",
    "- Value of unity should just mean one, which is good.\n",
    "- Set up code for two parameterizations of charge generation + seperation, the first being noninductive and the second being inductive, which together should account for almost all charge. It'll also be interesting to see how much the inductive process contributes, since it's not really considered that important, yet still important enough to include here.\n",
    "- Had to search around to figure out what constants were in the equations and finding their exact values. Still a few to go.\n",
    "\n",
    "\n",
    "### 6/22/20\n",
    "- Since these differential equations are dependent on time, it may not be necessary to solve complete solve them. When model is working, hopefully there is a sign reversal between -10 and -21 degrees C.\n",
    "- Their expression for temperature is weirdly complicated, but since I'm only doing a one-dimensional model, mine can be simpler. It's F(tau)= a tau^3 + b tau^2 + c tau + d, where tau = (-21/T_r)(T-273.16) and T_r = -21 or T_r = -10. This implies a conversion to Kelvin. I'll stick with my current temperature function, and if it doesn't work, then I'll try incorporating their stuff.\n",
    "\n",
    "### 6/23/20\n",
    "- Found graupel drag coefficient from the book: Parameterization Schemes: Keys to Understanding Numerical Weather Prediction by Stensrud.\n",
    "- Looked around to find what the intercept parameters for graupel and snow are, which turns on you need a distribution describing their size. Lambda (I used Y_g) is the slope, which is apparently almost never constant. However, the textbook that explained it (Storm and Cloud Dynamics, Cotton & Anthes) pretended the slope was constant for their example, and in some cases it kind of it, so I will just make it constant.\n",
    "- How to even know what that constant is? Cotton & Anthes gave the equation: $Y_g = 2.67 * 10^3 * M_g^(-1/3)$. M_g stands for graupel water content, so I searched for what value that might be. Turns out it usually is around 0.5, 1, or 2 g m^-3. Since 1 seems like a simple, midrange option, that's what I'm going with.\n",
    "- But what about the intercept parameter? According to paper Diagnosing the Intercept Parameter for Exponential Raindrop Size Distribution Based on Video Disdrometer Observations: Model Development (Zhang 2008), the most common value for $n_0g = 8E6$ m^-4. Another weird unit in meteorology that I'm sure makes sense but is still strange.\n",
    "- The Zhang 2008 paper has a really nice graph showing the dropsize distribution vs diameter. The range of diameter for graupel is 0 to 5 mm, so I think I'm going to make an array of those values for the graupel distribution.\n",
    "- This doesn't give me exact distibution I think is ideal, which starts which a good amount of graupel near 0, then peaks at around 1, and slowly goes decreases until it's nearly zero at 5. However, I do have the a lot of 0 mm graupel, and it does go to nearly zero around 5 mm, so it's not awful.\n"
   ]
  },
  {
   "cell_type": "code",
   "execution_count": 26,
   "metadata": {},
   "outputs": [],
   "source": [
    "#constants\n",
    "g = 9.8              #easy\n",
    "P_l = 300               #density of graupel kg/m^3\n",
    "C_D = 0.6               #graupel drag coefficient\n",
    "p_a =  1              #FIX air density at altitude\n",
    "E_gi = 1              #value of unity ? product of collision effiency and rebound efficiency \n",
    "dq = 10**(-16)               #C/collision\n",
    "N_l = 1                 #FIX number of graupel\n",
    "\n",
    "n_0g = 8E6               #intercept parameters of graupel and snow distributions\n",
    "Y_g = 2.67E3                #graupel slope parameter\n",
    "D = linspace(0,.005,21)               #diameter of graupel\n",
    "\n",
    "\n"
   ]
  },
  {
   "cell_type": "code",
   "execution_count": 25,
   "metadata": {},
   "outputs": [
    {
     "data": {
      "text/plain": [
       "[<matplotlib.lines.Line2D at 0x1d0c23e3c50>]"
      ]
     },
     "execution_count": 25,
     "metadata": {},
     "output_type": "execute_result"
    },
    {
     "data": {
      "image/png": "[encoded data removed]",
      "text/plain": [
       "<Figure size 432x288 with 1 Axes>"
      ]
     },
     "metadata": {
      "needs_background": "light"
     },
     "output_type": "display_data"
    }
   ],
   "source": [
    "#graupel distribution\n",
    "n = n_0g * exp(-Y_g * D)\n",
    "\n",
    "plot(n)"
   ]
  },
  {
   "cell_type": "code",
   "execution_count": null,
   "metadata": {},
   "outputs": [],
   "source": [
    "#the noninductive charge generation equation for graupel & ice\n",
    "#all in MKS units\n",
    "C = 2.61 * (4 * g * P_1 / (3 * C_D * p_a))**(1/2) * E_gi * dq * N_1 * n_0g * y_g**(-3.5)\n",
    "\n",
    "\n",
    "dV =                        #difference in sedimentation speeds for different hydrometeors\n",
    "dL =                        #function of cloud water content\n",
    "beta = T                     #temperature function\n",
    "d = 0.0002                       #diameter of cloud droplet\n",
    "E_gc = .01 * exp(.01*T)      #graupel-droplet collision efficiency\n",
    "n_c =                       #numerical concentration of hydrometeors\n",
    "alpha = 0.022                #rebound probability and droplets w/ grazing trajectories\n",
    "e = 1.0005898                 #dielectric permittivity of air\n",
    "cos = 0.84                   #cosine of angle between cloud droplet and graupel\n",
    "E_r = 0.1                    #probility of cloud droplet collision\n",
    "E_z =                       #vertical eletric field in thunderstorm\n",
    "Q_d = p_g/N_g                       #individual charge. N_g is graupel concentration\n",
    "V_D =                        # fall speed \n",
    "#the inductive charge generation equation\n",
    "S = pi / 4 * E_gc * E_r * D**2 * V_D * n_c * alpha * ((pi**3 / 2) * (d)**2 * e * E_z * cos - (pi**2/6 * Q_d * d**2 / D**2))"
   ]
  }
 ],
 "metadata": {
  "kernelspec": {
   "display_name": "Python 3",
   "language": "python",
   "name": "python3"
  },
  "language_info": {
   "codemirror_mode": {
    "name": "ipython",
    "version": 3
   },
   "file_extension": ".py",
   "mimetype": "text/x-python",
   "name": "python",
   "nbconvert_exporter": "python",
   "pygments_lexer": "ipython3",
   "version": "3.7.1"
  }
 },
 "nbformat": 4,
 "nbformat_minor": 2
}
