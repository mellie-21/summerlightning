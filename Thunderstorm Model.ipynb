{
 "cells": [
  {
   "cell_type": "code",
   "execution_count": 1,
   "metadata": {},
   "outputs": [
    {
     "name": "stdout",
     "output_type": "stream",
     "text": [
      "Populating the interactive namespace from numpy and matplotlib\n"
     ]
    }
   ],
   "source": [
    "%pylab inline"
   ]
  },
  {
   "cell_type": "code",
   "execution_count": 2,
   "metadata": {},
   "outputs": [
    {
     "data": {
      "text/plain": [
       "array([ 0. ,  0.5,  1. ,  1.5,  2. ,  2.5,  3. ,  3.5,  4. ,  4.5,  5. ,\n",
       "        5.5,  6. ,  6.5,  7. ,  7.5,  8. ,  8.5,  9. ,  9.5, 10. ])"
      ]
     },
     "execution_count": 2,
     "metadata": {},
     "output_type": "execute_result"
    }
   ],
   "source": [
    "#Altitude in km\n",
    "z = linspace(0,10,21)\n",
    "z"
   ]
  },
  {
   "cell_type": "markdown",
   "metadata": {},
   "source": [
    "Change in temperature is the environmental lapse rate, which can be derived from IGL, but in thunderstorms, the air isn't dry, so it doesn't apply. I looked up the average lapse rate to be 6.5 degrees C / km, which isn't perfect, but better than assuming temperature is constant. Assuming it's a warm day, we'll start at ground level at 25 degrees C."
   ]
  },
  {
   "cell_type": "code",
   "execution_count": 3,
   "metadata": {},
   "outputs": [
    {
     "data": {
      "text/plain": [
       "array([ 25.  ,  21.75,  18.5 ,  15.25,  12.  ,   8.75,   5.5 ,   2.25,\n",
       "        -1.  ,  -4.25,  -7.5 , -10.75, -14.  , -17.25, -20.5 , -23.75,\n",
       "       -27.  , -30.25, -33.5 , -36.75, -40.  ])"
      ]
     },
     "execution_count": 3,
     "metadata": {},
     "output_type": "execute_result"
    }
   ],
   "source": [
    "#Temperature\n",
    "T = 25 - z*6.5\n",
    "T\n"
   ]
  },
  {
   "cell_type": "code",
   "execution_count": 4,
   "metadata": {},
   "outputs": [
    {
     "data": {
      "text/plain": [
       "[<matplotlib.lines.Line2D at 0x1c6bd6a69b0>]"
      ]
     },
     "execution_count": 4,
     "metadata": {},
     "output_type": "execute_result"
    },
    {
     "data": {
      "image/png": "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\n",
      "text/plain": [
       "<Figure size 432x288 with 1 Axes>"
      ]
     },
     "metadata": {
      "needs_background": "light"
     },
     "output_type": "display_data"
    }
   ],
   "source": [
    "plot(z,T)"
   ]
  },
  {
   "cell_type": "markdown",
   "metadata": {},
   "source": [
    "## Notes\n",
    "### 6/18/20\n",
    "Value of unity should just mean one, which is good.\n",
    "Set up code for two parameterizations of charge generation + seperation, the first being noninductive and the second being inductive, which together should account for almost all charge. It'll also be interesting to see how much the inductive process contributes, since it's not really considered that important, yet still important enough to include here.\n",
    "Had to search around to figure out what constants were in the equations and finding their exact values. Still a few to go.\n",
    "\n",
    "\n",
    "### 6/22/20\n",
    "Since these differential equations are dependent on time, it may not be necessary to solve complete solve them. \n",
    "When model is working, hopefully there is a sign reversal between -10 and -21 degrees C.\n",
    "Their expression for temperature is weirdly complicated, but since I'm only doing a one-dimensional model, mine can be simpler. It's F(tau)= a tau^3 + b tau^2 + c tau + d, where tau = (-21/T_r)(T-273.16) and T_r = -21 or T_r = -10. This implies a conversion to Kelvin. I'll stick with my current temperature function, and if it doesn't work, then I'll try incorporating their stuff."
   ]
  },
  {
   "cell_type": "code",
   "execution_count": null,
   "metadata": {},
   "outputs": [],
   "source": [
    "#constants\n",
    "g = 9.8              #easy\n",
    "P_l = 300               #density of graupel kg/m^3\n",
    "C_D =                #graupel drag coefficient\n",
    "p_a =                #air density at altitude\n",
    "E_gi =               #value of unity ? product of collision effiency and rebound efficiency \n",
    "dq = 10**(-16)               #C/collision\n",
    "N_l =                 #number of graupel\n",
    "n_0g =                #intercept parameters of graupel and snow distributions\n",
    "y_g =                 #graupel slope parameter\n",
    "\n",
    "#graupel distribution\n",
    "n = n_og * exp(-Y_g * D)\n",
    "    \n",
    "#the noninductive charge generation equation for graupel & ice\n",
    "#all in MKS units\n",
    "C = 2.61 * (4 * g * P_1 / (3 * C_D * p_a))**(1/2) * E_gi * dq * N_1 * n_0g * y_g**(-3.5)\n",
    "\n",
    "\n",
    "dV =                        #difference in sedimentation speeds for different hydrometeors\n",
    "dL =                        #function of cloud water content\n",
<<<<<<< HEAD
    "beta = T                     #temperature function\n",
    "D = 0.00113                         #diameter of graupel\n",
    "d = 0.0002                       #diameter of cloud droplet\n",
    "E_gc = .01 * exp(.01*T)      #graupel-droplet collision efficiency\n",
    "n_c =                       #numerical concentration of hydrometeors\n",
    "alpha = 0.022                #rebound probability and droplets w/ grazing trajectories\n",
    "e = 1.0005898                 #dielectric permittivity of air\n",
=======
    "beta =                      #temperature function\n",
    "D =                         #diameter\n",
    "D_nx = \n",
    "E_12 = .01 * exp(.01*T)      #coeffiecient of particle collision\n",
    "n_12 =                       #numerical concentration of hydrometeors\n",
    "alpha = 0.022                #\n",
    "e =                          #dielectric permittivity of air\n",
>>>>>>> 855210b5d4519041f3ab274e17c947eba6ac9c9f
    "cos = 0.84                   #cosine of angle between cloud droplet and graupel\n",
    "E_r = 0.1                    #probility of cloud droplet collision\n",
    "E_z =                       #vertical eletric field in thunderstorm\n",
    "Q_d =                        #individual charge\n",
    "V_D =                        # fall speed \n",
    "#the inductive charge generation equation\n",
    "S = pi / 4 * E_gc * E_r * D**2 * V_D * n_c * alpha * ((pi**3 / 2) * (d)**2 * e * E_z * cos - (pi**2/6 * Q_d * d**2 / D**2))"
   ]
  }
 ],
 "metadata": {
  "kernelspec": {
   "display_name": "Python 3",
   "language": "python",
   "name": "python3"
  },
  "language_info": {
   "codemirror_mode": {
    "name": "ipython",
    "version": 3
   },
   "file_extension": ".py",
   "mimetype": "text/x-python",
   "name": "python",
   "nbconvert_exporter": "python",
   "pygments_lexer": "ipython3",
   "version": "3.7.1"
  }
 },
 "nbformat": 4,
 "nbformat_minor": 2
}
