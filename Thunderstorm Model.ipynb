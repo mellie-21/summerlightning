{
 "cells": [
  {
   "cell_type": "code",
   "execution_count": 57,
   "metadata": {},
   "outputs": [
    {
     "name": "stdout",
     "output_type": "stream",
     "text": [
      "Populating the interactive namespace from numpy and matplotlib\n"
     ]
    }
   ],
   "source": [
    "%pylab inline"
   ]
  },
  {
   "cell_type": "code",
   "execution_count": 58,
   "metadata": {},
   "outputs": [
    {
     "data": {
      "text/plain": [
       "array([ 0. ,  0.5,  1. ,  1.5,  2. ,  2.5,  3. ,  3.5,  4. ,  4.5,  5. ,\n",
       "        5.5,  6. ,  6.5,  7. ,  7.5,  8. ,  8.5,  9. ,  9.5, 10. ])"
      ]
     },
     "execution_count": 58,
     "metadata": {},
     "output_type": "execute_result"
    }
   ],
   "source": [
    "#Altitude in km\n",
    "z = linspace(0,10,21)\n",
    "z"
   ]
  },
  {
   "cell_type": "code",
   "execution_count": 59,
   "metadata": {},
   "outputs": [
    {
     "data": {
      "text/plain": [
       "array([352.98932524, 336.85452337, 321.28994322, 306.28147506,\n",
       "       291.81520546, 277.87741667, 264.45458615, 251.53338593,\n",
       "       239.10068206, 227.14353405, 215.64919429, 204.60510744,\n",
       "       193.99890985, 183.81842898, 174.05168277, 164.68687905,\n",
       "       155.71241493, 147.11687615, 138.88903651, 131.01785718,\n",
       "       123.49248608])"
      ]
     },
     "execution_count": 59,
     "metadata": {},
     "output_type": "execute_result"
    }
   ],
   "source": [
    "p_a = (101325*0.0289654/8.31447)*(1-(0.0065*z*1000)/297)**(9.8*0.028964/(8.31447*0.0065)-1)\n",
    "p_a"
   ]
  },
  {
   "cell_type": "code",
   "execution_count": 60,
   "metadata": {},
   "outputs": [
    {
     "data": {
      "text/plain": [
       "[<matplotlib.lines.Line2D at 0x1d0c286dcc0>]"
      ]
     },
     "execution_count": 60,
     "metadata": {},
     "output_type": "execute_result"
    },
    {
     "data": {
      "image/png": "[encoded data removed]",
      "text/plain": [
       "<Figure size 432x288 with 1 Axes>"
      ]
     },
     "metadata": {
      "needs_background": "light"
     },
     "output_type": "display_data"
    }
   ],
   "source": [
    "plot(p_a,z)"
   ]
  },
  {
   "cell_type": "markdown",
   "metadata": {},
   "source": [
    "Change in temperature is the environmental lapse rate, which can be derived from IGL, but in thunderstorms, the air isn't dry, so it doesn't apply. I looked up the average lapse rate to be 6.5 degrees C / km, which isn't perfect, but better than assuming temperature is constant. Assuming it's a warm day, we'll start at ground level at 25 degrees C."
   ]
  },
  {
   "cell_type": "code",
   "execution_count": 61,
   "metadata": {},
   "outputs": [
    {
     "data": {
      "text/plain": [
       "array([ 25.  ,  21.75,  18.5 ,  15.25,  12.  ,   8.75,   5.5 ,   2.25,\n",
       "        -1.  ,  -4.25,  -7.5 , -10.75, -14.  , -17.25, -20.5 , -23.75,\n",
       "       -27.  , -30.25, -33.5 , -36.75, -40.  ])"
      ]
     },
     "execution_count": 61,
     "metadata": {},
     "output_type": "execute_result"
    }
   ],
   "source": [
    "#Temperature\n",
    "T = 25 - z*6.5\n",
    "T\n"
   ]
  },
  {
   "cell_type": "code",
   "execution_count": 62,
   "metadata": {},
   "outputs": [
    {
     "data": {
      "text/plain": [
       "[<matplotlib.lines.Line2D at 0x1d0c28cb048>]"
      ]
     },
     "execution_count": 62,
     "metadata": {},
     "output_type": "execute_result"
    },
    {
     "data": {
      "image/png": "[encoded data removed]",
      "text/plain": [
       "<Figure size 432x288 with 1 Axes>"
      ]
     },
     "metadata": {
      "needs_background": "light"
     },
     "output_type": "display_data"
    }
   ],
   "source": [
    "plot(z,T)"
   ]
  },
  {
   "cell_type": "markdown",
   "metadata": {},
   "source": [
    "## Notes\n",
    "### 6/18/20\n",
    "- Value of unity should just mean one, which is good.\n",
    "- Set up code for two parameterizations of charge generation + seperation, the first being noninductive and the second being inductive, which together should account for almost all charge. It'll also be interesting to see how much the inductive process contributes, since it's not really considered that important, yet still important enough to include here.\n",
    "- Had to search around to figure out what constants were in the equations and finding their exact values. Still a few to go.\n",
    "\n",
    "\n",
    "### 6/22/20\n",
    "- Since these differential equations are dependent on time, it may not be necessary to solve complete solve them. When model is working, hopefully there is a sign reversal between -10 and -21 degrees C.\n",
    "- Their expression for temperature is weirdly complicated, but since I'm only doing a one-dimensional model, mine can be simpler. It's F(tau)= a tau^3 + b tau^2 + c tau + d, where tau = (-21/T_r)(T-273.16) and T_r = -21 or T_r = -10. This implies a conversion to Kelvin. I'll stick with my current temperature function, and if it doesn't work, then I'll try incorporating their stuff.\n",
    "\n",
    "### 6/23/20\n",
    "- Found graupel drag coefficient from the book: Parameterization Schemes: Keys to Understanding Numerical Weather Prediction by Stensrud.\n",
    "- Looked around to find what the intercept parameters for graupel and snow are, which turns on you need a distribution describing their size. Lambda (I used Y_g) is the slope, which is apparently almost never constant. However, the textbook that explained it (Storm and Cloud Dynamics, Cotton & Anthes) pretended the slope was constant for their example, and in some cases it kind of it, so I will just make it constant.\n",
    "- How to even know what that constant is? Cotton & Anthes gave the equation: $Y_g = 2.67 * 10^3 * M_g^(-1/3)$. M_g stands for graupel water content, so I searched for what value that might be. Turns out it usually is around 0.5, 1, or 2 g m^-3. Since 1 seems like a simple, midrange option, that's what I'm going with.\n",
    "- But what about the intercept parameter? According to paper Diagnosing the Intercept Parameter for Exponential Raindrop Size Distribution Based on Video Disdrometer Observations: Model Development (Zhang 2008), the most common value for $n_0g = 8E6$ m^-4. Another weird unit in meteorology that I'm sure makes sense but is still strange.\n",
    "- The Zhang 2008 paper has a really nice graph showing the dropsize distribution vs diameter. The range of diameter for graupel is 0 to 5 mm, so I think I'm going to make an array of those values for the graupel distribution.\n",
    "- This doesn't give me exact distibution I think is ideal, which starts which a good amount of graupel near 0, then peaks at around 1, and slowly goes decreases until it's nearly zero at 5. However, I do have the a lot of 0 mm graupel, and it does go to nearly zero around 5 mm, so it's not awful.\n",
    "\n",
    "### 6/25/20\n",
    "- I don't know how I'm going to deal with $ \\rho_a$, the air density at altitude. Obviously altitude is changing. So that's probably going to be an array, and the charge separation equation will give something for every air density in the array. Which I think is what I want, something that describes the charge changing as altitude changes. \n",
    "- Found this familiar equation: $\\rho = \\frac{\\rho_0 M}{RT_0}(1 - \\frac{Lh}{T_0})^{gM/RL-1}$. That'll be my model for how air density changes with altitude, which is $h$. The rest is easy. Wel'll pretend it's 297 K out (it should be at least pretty warm if there are going to be thunderstorms)\n",
    "- Density function was being weird, so moved it up my code by altitude. Also had desnity increasing with altitude for a little while was bad, but that was just due to misplaced parenthesis and is fixed.\n",
    "- Did some dimensional analysis to check the density units I get, which are kg/m^3, which is good.\n",
    "- Changed N_1 to N_i, misread blurry PDF paper. Double checking  values for P_l (where did 300 come from again?) and finding N_i are what's necessary next.\n",
    "\n",
    "### 6/29/20\n",
    "- Checked the value for P_l (graupel density) again. According to the Handbook of Atmospheric Electrodynamics (Volland 1995) and confirmed by other sources, graupel density in thunderstorms range from 0.1 to 1.0 gm/cm^3. If I go with an average-ish of 0.5, that means it's 500 kg/m^3, which is the same magnitude as 300, so I guess my original value was that off. However, that still seems like a really high density.\n",
    "- For N_i, the number seems to vary widely, from 10^2 to 10^6 ice crystals/liter, with amounts usually around 10^4/L, so I'll try that. Have to convert per L to per m^3 though,  which means it's 10^7 m^-3.\n",
    "- And fortunately when I put the numbers in the equation, it works, but I don't think I'm at the point where it's actually meaningful yet. I plotted the array, but it automatically does it versus density, which isn't what I want.\n",
    "- Changed it to versus Z. "
   ]
  },
  {
   "cell_type": "code",
   "execution_count": 63,
   "metadata": {},
   "outputs": [],
   "source": [
    "#constants\n",
    "g = 9.8                     #easy m/s^2\n",
    "P_l = 300                   #density of graupel kg/m^3\n",
    "C_D = 0.6                   #graupel drag coefficient\n",
    "E_gi = 1                    #value of unity ? product of collision effiency and rebound efficiency \n",
    "dq = 10**(-16)              #C/collision\n",
    "N_i = 10**7                 #ice crystal concentration?\n",
    "n_0g = 8E6                  #intercept parameters of graupel and snow distributions\n",
    "Y_g = 2.67E3                #graupel slope parameter\n",
    "D = linspace(0,.005,21)     #diameter of graupel in m\n"
   ]
  },
  {
   "cell_type": "code",
   "execution_count": 64,
   "metadata": {},
   "outputs": [
    {
     "data": {
      "text/plain": [
       "[<matplotlib.lines.Line2D at 0x1d0c291fcf8>]"
      ]
     },
     "execution_count": 64,
     "metadata": {},
     "output_type": "execute_result"
    },
    {
     "data": {
      "image/png": "[encoded data removed]",
      "text/plain": [
       "<Figure size 432x288 with 1 Axes>"
      ]
     },
     "metadata": {
      "needs_background": "light"
     },
     "output_type": "display_data"
    }
   ],
   "source": [
    "#graupel distribution\n",
    "n = n_0g * exp(-Y_g * D)\n",
    "\n",
    "plot(n)"
   ]
  },
  {
   "cell_type": "code",
   "execution_count": 66,
   "metadata": {},
   "outputs": [
    {
     "data": {
      "text/plain": [
       "array([9.13329955e-14, 9.34947654e-14, 9.57326150e-14, 9.80501185e-14,\n",
       "       1.00451061e-13, 1.02939454e-13, 1.05519551e-13, 1.08195867e-13,\n",
       "       1.10973193e-13, 1.13856623e-13, 1.16851574e-13, 1.19963811e-13,\n",
       "       1.23199471e-13, 1.26565099e-13, 1.30067674e-13, 1.33714649e-13,\n",
       "       1.37513985e-13, 1.41474198e-13, 1.45604402e-13, 1.49914362e-13,\n",
       "       1.54414550e-13])"
      ]
     },
     "execution_count": 66,
     "metadata": {},
     "output_type": "execute_result"
    }
   ],
   "source": [
    "#the noninductive charge generation equation for graupel & ice\n",
    "#all in MKS units\n",
    "C = 2.61 * (4 * g * P_l / (3 * C_D * p_a))**(1/2) * E_gi * dq * N_i * n_0g * Y_g**(-3.5)\n",
    "C"
   ]
  },
  {
   "cell_type": "code",
   "execution_count": 68,
   "metadata": {},
   "outputs": [
    {
     "data": {
      "text/plain": [
       "[<matplotlib.lines.Line2D at 0x1d0c29e94e0>]"
      ]
     },
     "execution_count": 68,
     "metadata": {},
     "output_type": "execute_result"
    },
    {
     "data": {
      "image/png": "[encoded data removed]",
      "text/plain": [
       "<Figure size 432x288 with 1 Axes>"
      ]
     },
     "metadata": {
      "needs_background": "light"
     },
     "output_type": "display_data"
    }
   ],
   "source": [
    "plot(C,z)"
   ]
  },
  {
   "cell_type": "markdown",
   "metadata": {},
   "source": [
    "____________________________________________________________________"
   ]
  },
  {
   "cell_type": "code",
   "execution_count": null,
   "metadata": {},
   "outputs": [],
   "source": [
    "dV =                        #difference in sedimentation speeds for different hydrometeors\n",
    "dL =                        #function of cloud water content\n",
    "beta = T                     #temperature function\n",
    "d = 0.0002                       #diameter of cloud droplet\n",
    "E_gc = .01 * exp(.01*T)      #graupel-droplet collision efficiency\n",
    "n_c =                       #numerical concentration of hydrometeors\n",
    "alpha = 0.022                #rebound probability and droplets w/ grazing trajectories\n",
    "e = 1.0005898                 #dielectric permittivity of air\n",
    "cos = 0.84                   #cosine of angle between cloud droplet and graupel\n",
    "E_r = 0.1                    #probility of cloud droplet collision\n",
    "E_z =                       #vertical eletric field in thunderstorm\n",
    "Q_d = p_g/N_g                       #individual charge. N_g is graupel concentration\n",
    "V_D =                        # fall speed \n",
    "#the inductive charge generation equation\n",
    "S = pi / 4 * E_gc * E_r * D**2 * V_D * n_c * alpha * ((pi**3 / 2) * (d)**2 * e * E_z * cos - (pi**2/6 * Q_d * d**2 / D**2))"
   ]
  }
 ],
 "metadata": {
  "kernelspec": {
   "display_name": "Python 3",
   "language": "python",
   "name": "python3"
  },
  "language_info": {
   "codemirror_mode": {
    "name": "ipython",
    "version": 3
   },
   "file_extension": ".py",
   "mimetype": "text/x-python",
   "name": "python",
   "nbconvert_exporter": "python",
   "pygments_lexer": "ipython3",
   "version": "3.7.1"
  }
 },
 "nbformat": 4,
 "nbformat_minor": 2
}
